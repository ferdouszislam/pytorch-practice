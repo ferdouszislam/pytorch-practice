{
  "nbformat": 4,
  "nbformat_minor": 0,
  "metadata": {
    "colab": {
      "name": "CrossEntropyFalseError.ipynb",
      "provenance": [],
      "authorship_tag": "ABX9TyNWMPsNa3cp7t0gHlEuOiIA",
      "include_colab_link": true
    },
    "kernelspec": {
      "name": "python3",
      "display_name": "Python 3"
    },
    "language_info": {
      "name": "python"
    }
  },
  "cells": [
    {
      "cell_type": "markdown",
      "metadata": {
        "id": "view-in-github",
        "colab_type": "text"
      },
      "source": [
        "<a href=\"https://colab.research.google.com/github/ferdouszislam/pytorch-practice/blob/main/CrossEntropyFalseError.ipynb\" target=\"_parent\"><img src=\"https://colab.research.google.com/assets/colab-badge.svg\" alt=\"Open In Colab\"/></a>"
      ]
    },
    {
      "cell_type": "code",
      "metadata": {
        "id": "3hg4u5vOI32Z"
      },
      "source": [
        "import torch"
      ],
      "execution_count": 29,
      "outputs": []
    },
    {
      "cell_type": "code",
      "metadata": {
        "id": "Pd5IxhfIJHTS"
      },
      "source": [
        "def softmax(x):\n",
        "  exp_x = torch.exp(x)\n",
        "  sum_x = torch.sum(exp_x, dim=1, keepdim=True)\n",
        "  return exp_x/sum_x\n",
        "\n",
        "def log_softmax(x):\n",
        "  return torch.log(torch.exp(x) / torch.sum(torch.exp(x), dim=1, keepdim=True))\n",
        "\n",
        "def cross_entropy_false_error(outputs, targets):\n",
        "  print(outputs, targets)\n",
        "\n",
        "  num_examples = targets.shape[0]\n",
        "  batch_size = outputs.shape[0]\n",
        "  outputs = log_softmax(outputs)\n",
        "  outputs = outputs[range(batch_size), targets]\n",
        "  outputs = -1 * outputs\n",
        "\n",
        "  all_zeroes = torch.zeros_like(labels)\n",
        "  all_ones = torch.ones_like(labels)\n",
        "\n",
        "  label_tensor = torch.full(labels.size(), 0)\n",
        "  class0_pos_mul_tensors = torch.where(labels == label_tensor, all_ones, all_zeroes)\n",
        "  class0_pos_cnt = labels.eq(label_tensor).sum().item()\n",
        "  class0_neg_mul_tensors = torch.where(labels != label_tensor, all_ones, all_zeroes)\n",
        "  class0_neg_cnt = labels.ne(label_tensor).sum().item()\n",
        "\n",
        "  label_tensor = torch.full(labels.size(), 1)\n",
        "  class1_pos_mul_tensors = torch.where(labels == label_tensor, all_ones, all_zeroes)\n",
        "  class1_pos_cnt = labels.eq(label_tensor).sum().item()\n",
        "  class1_neg_mul_tensors = torch.where(labels != label_tensor, all_ones, all_zeroes)\n",
        "  class1_neg_cnt = labels.ne(label_tensor).sum().item()\n",
        "\n",
        "  label_tensor = torch.full(labels.size(), 2)\n",
        "  class2_pos_mul_tensors = torch.where(labels == label_tensor, all_ones, all_zeroes)\n",
        "  class2_pos_cnt = labels.eq(label_tensor).sum().item()\n",
        "  class2_neg_mul_tensors = torch.where(labels != label_tensor, all_ones, all_zeroes)\n",
        "  class2_neg_cnt = labels.ne(label_tensor).sum().item()\n",
        "\n",
        "  label_tensor = torch.full(labels.size(), 3)\n",
        "  class3_pos_mul_tensors = torch.where(labels == label_tensor, all_ones, all_zeroes)\n",
        "  class3_pos_cnt = labels.eq(label_tensor).sum().item()\n",
        "  class3_neg_mul_tensors = torch.where(labels != label_tensor, all_ones, all_zeroes)\n",
        "  class3_neg_cnt = labels.ne(label_tensor).sum().item()\n",
        "\n",
        "  print(labels)\n",
        "\n",
        "  label_tensor = torch.full(labels.size(), 4)\n",
        "  class4_pos_mul_tensors = torch.where(labels == label_tensor, all_ones, all_zeroes)\n",
        "  class4_pos_cnt = labels.eq(label_tensor).sum().item()\n",
        "  class4_neg_mul_tensors = torch.where(labels != label_tensor, all_ones, all_zeroes)\n",
        "  class4_neg_cnt = labels.ne(label_tensor).sum().item()\n",
        "\n",
        "  print('\\nclass 4:')\n",
        "  print(label_tensor)\n",
        "  print(class4_pos_mul_tensors)\n",
        "  print(class4_pos_cnt)\n",
        "  print(class4_neg_mul_tensors)\n",
        "  print(class4_neg_cnt)\n",
        "\n",
        "  error_sum = (torch.sum(outputs*class0_pos_mul_tensors)/class0_pos_cnt) + (torch.sum(outputs*class0_neg_mul_tensors)/class0_neg_cnt) \\\n",
        "              + (torch.sum(outputs*class1_pos_mul_tensors)/class1_pos_cnt) + (torch.sum(outputs*class1_neg_mul_tensors)/class1_neg_cnt) \\\n",
        "              + (torch.sum(outputs*class2_pos_mul_tensors)/class2_pos_cnt) + (torch.sum(outputs*class2_neg_mul_tensors)/class2_neg_cnt) \\\n",
        "              + (torch.sum(outputs*class3_pos_mul_tensors)/class3_pos_cnt) + (torch.sum(outputs*class3_neg_mul_tensors)/class3_neg_cnt) \\\n",
        "              + (torch.sum(outputs*class4_pos_mul_tensors)/class4_pos_cnt) + (torch.sum(outputs*class4_neg_mul_tensors)/class4_neg_cnt) \\\n",
        "  \n",
        "  return error_sum / 5"
      ],
      "execution_count": 54,
      "outputs": []
    },
    {
      "cell_type": "code",
      "metadata": {
        "colab": {
          "base_uri": "https://localhost:8080/"
        },
        "id": "hECco-OFm_b3",
        "outputId": "b6fefdd2-4e6a-43d7-f8ed-3db3b73d9c70"
      },
      "source": [
        "outputs = torch.tensor([[0, 1, 2, 3, 4, 2, 0, 3, 4, 1]])\n",
        "labels = torch.tensor([[0, 1, 2, 3, 4, 0, 1, 2, 3, 4]])\n",
        "\n",
        "cross_entropy_false_error(outputs, labels)"
      ],
      "execution_count": 55,
      "outputs": [
        {
          "output_type": "stream",
          "name": "stdout",
          "text": [
            "tensor([[0, 1, 2, 3, 4, 2, 0, 3, 4, 1]]) tensor([[0, 1, 2, 3, 4, 0, 1, 2, 3, 4]])\n",
            "tensor([[0, 1, 2, 3, 4, 0, 1, 2, 3, 4]])\n",
            "\n",
            "class 4:\n",
            "tensor([[4, 4, 4, 4, 4, 4, 4, 4, 4, 4]])\n",
            "tensor([[0, 0, 0, 0, 1, 0, 0, 0, 0, 1]])\n",
            "2\n",
            "tensor([[1, 1, 1, 1, 0, 1, 1, 1, 1, 0]])\n",
            "8\n"
          ]
        },
        {
          "output_type": "execute_result",
          "data": {
            "text/plain": [
              "tensor(6.2901)"
            ]
          },
          "metadata": {},
          "execution_count": 55
        }
      ]
    },
    {
      "cell_type": "code",
      "metadata": {
        "colab": {
          "base_uri": "https://localhost:8080/"
        },
        "id": "pNR1ApgSqlA_",
        "outputId": "73b6c3fb-f573-45c8-ad89-b54183db8f5e"
      },
      "source": [
        "label_tensor = torch.full(labels.size(), 4)\n",
        "#labels.eq(label_tensor).sum()\n",
        "\n",
        "class4_pos_mul_tensors = torch.where(labels == label_tensor, torch.ones_like(labels), torch.zeros_like(labels))\n",
        "class4_neg_mul_tensors = torch.where(labels != label_tensor, torch.ones_like(labels), torch.zeros_like(labels))\n",
        "\n",
        "print(labels, class4_pos_mul_tensors, class4_neg_mul_tensors)"
      ],
      "execution_count": 52,
      "outputs": [
        {
          "output_type": "stream",
          "name": "stdout",
          "text": [
            "tensor([[0, 1, 2, 3, 4, 0, 1, 2, 3, 4]]) tensor([[0, 0, 0, 0, 1, 0, 0, 0, 0, 1]]) tensor([[1, 1, 1, 1, 0, 1, 1, 1, 1, 0]])\n"
          ]
        }
      ]
    }
  ]
}
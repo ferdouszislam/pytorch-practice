{
  "nbformat": 4,
  "nbformat_minor": 0,
  "metadata": {
    "colab": {
      "name": "cross_entropy_from_label_probabilities.ipynb",
      "provenance": [],
      "authorship_tag": "ABX9TyOiXTXup1jQLCvy++pNFWbs",
      "include_colab_link": true
    },
    "kernelspec": {
      "name": "python3",
      "display_name": "Python 3"
    },
    "language_info": {
      "name": "python"
    }
  },
  "cells": [
    {
      "cell_type": "markdown",
      "metadata": {
        "id": "view-in-github",
        "colab_type": "text"
      },
      "source": [
        "<a href=\"https://colab.research.google.com/github/ferdouszislam/pytorch-practice/blob/main/cross_entropy_from_label_probabilities.ipynb\" target=\"_parent\"><img src=\"https://colab.research.google.com/assets/colab-badge.svg\" alt=\"Open In Colab\"/></a>"
      ]
    },
    {
      "cell_type": "code",
      "metadata": {
        "id": "IeDGyvg_Bhc7"
      },
      "source": [
        "import torch\n",
        "import torch.nn as nn"
      ],
      "execution_count": 20,
      "outputs": []
    },
    {
      "cell_type": "code",
      "metadata": {
        "id": "7z4hD5wwJYbq"
      },
      "source": [
        "# Cross Entropy Loss implementation was modified from- <https://discuss.pytorch.org/t/how-to-write-custom-crossentropyloss/58072> \n",
        "\n",
        "def log_softmax(x):\n",
        "  return x - torch.logsumexp(x,dim=1, keepdim=True)\n",
        "\n",
        "def cross_entropy(outputs, targets):\n",
        "  num_examples = targets.shape[0]\n",
        "  cross_entropies = targets*log_softmax(outputs)\n",
        "  return - torch.sum(cross_entropies) / num_examples"
      ],
      "execution_count": 21,
      "outputs": []
    },
    {
      "cell_type": "code",
      "metadata": {
        "id": "PUzkl5ldJ4zj"
      },
      "source": [
        "outputs = torch.tensor([[300.0, 100.0, 400.0, 100.0, 100.0],\n",
        "                        [100.0, 200.0, 300.0, 200.0, 200.0],\n",
        "                        [300.0, 100.0, 400.0, 100.0, 100.0]])\n",
        "\n",
        "labels = torch.tensor([3, 2, 1])\n",
        "\n",
        "\n",
        "label_one_hot = torch.tensor([[0, 0, 0, 1, 0], \n",
        "                              [0, 0, 1, 0, 0], \n",
        "                              [0, 1, 0, 0, 0]])\n",
        "\n",
        "label_probs = torch.tensor([[0.1, 0.2, 0.1, 0.4, 0.2], \n",
        "                            [0.2, 0.2, 0.4, 0.1, 0.1], \n",
        "                            [0.1, 0.6, 0.1, 0.1, 0.1]])"
      ],
      "execution_count": 22,
      "outputs": []
    },
    {
      "cell_type": "code",
      "metadata": {
        "colab": {
          "base_uri": "https://localhost:8080/"
        },
        "id": "V2CVngmiMjfr",
        "outputId": "8f39d52f-0f01-4f20-9a90-fd0d09765894"
      },
      "source": [
        "# get labels from probs\n",
        "_, labels_from_label_probs = torch.max(label_probs, 1)\n",
        "labels_from_label_probs"
      ],
      "execution_count": 23,
      "outputs": [
        {
          "output_type": "execute_result",
          "data": {
            "text/plain": [
              "tensor([3, 2, 1])"
            ]
          },
          "metadata": {},
          "execution_count": 23
        }
      ]
    },
    {
      "cell_type": "code",
      "metadata": {
        "colab": {
          "base_uri": "https://localhost:8080/"
        },
        "id": "zYbXxDswLwg7",
        "outputId": "a3449328-18b6-43ee-f39a-f61b05f0709e"
      },
      "source": [
        "built_in_ce = nn.CrossEntropyLoss()\n",
        "built_in_ce(outputs, labels)"
      ],
      "execution_count": 24,
      "outputs": [
        {
          "output_type": "execute_result",
          "data": {
            "text/plain": [
              "tensor(200.)"
            ]
          },
          "metadata": {},
          "execution_count": 24
        }
      ]
    },
    {
      "cell_type": "code",
      "metadata": {
        "colab": {
          "base_uri": "https://localhost:8080/"
        },
        "id": "eZI-4yerL5Ts",
        "outputId": "63deea1c-d18e-454c-9a74-d5db1eecc72b"
      },
      "source": [
        "cross_entropy(outputs, label_one_hot)"
      ],
      "execution_count": 25,
      "outputs": [
        {
          "output_type": "execute_result",
          "data": {
            "text/plain": [
              "tensor(200.)"
            ]
          },
          "metadata": {},
          "execution_count": 25
        }
      ]
    },
    {
      "cell_type": "code",
      "metadata": {
        "colab": {
          "base_uri": "https://localhost:8080/"
        },
        "id": "Hda625kbKdBs",
        "outputId": "960cfd69-1eb8-4bd0-9753-361a49c5788d"
      },
      "source": [
        "cross_entropy(outputs, label_probs)"
      ],
      "execution_count": 26,
      "outputs": [
        {
          "output_type": "execute_result",
          "data": {
            "text/plain": [
              "tensor(193.3333)"
            ]
          },
          "metadata": {},
          "execution_count": 26
        }
      ]
    }
  ]
}
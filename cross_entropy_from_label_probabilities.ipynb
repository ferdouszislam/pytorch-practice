{
  "nbformat": 4,
  "nbformat_minor": 0,
  "metadata": {
    "colab": {
      "name": "cross_entropy_from_label_probabilities.ipynb",
      "provenance": [],
      "authorship_tag": "ABX9TyNTc7L/GoAxACxlBCDC3BZk",
      "include_colab_link": true
    },
    "kernelspec": {
      "name": "python3",
      "display_name": "Python 3"
    },
    "language_info": {
      "name": "python"
    }
  },
  "cells": [
    {
      "cell_type": "markdown",
      "metadata": {
        "id": "view-in-github",
        "colab_type": "text"
      },
      "source": [
        "<a href=\"https://colab.research.google.com/github/ferdouszislam/pytorch-practice/blob/main/cross_entropy_from_label_probabilities.ipynb\" target=\"_parent\"><img src=\"https://colab.research.google.com/assets/colab-badge.svg\" alt=\"Open In Colab\"/></a>"
      ]
    },
    {
      "cell_type": "code",
      "metadata": {
        "id": "IeDGyvg_Bhc7"
      },
      "source": [
        "import torch\n",
        "import torch.nn as nn"
      ],
      "execution_count": 1,
      "outputs": []
    },
    {
      "cell_type": "markdown",
      "metadata": {
        "id": "Gf9labyZRV3C"
      },
      "source": [
        "### Cross Entropy"
      ]
    },
    {
      "cell_type": "code",
      "metadata": {
        "id": "7z4hD5wwJYbq"
      },
      "source": [
        "# Cross Entropy Loss implementation was modified from- <https://discuss.pytorch.org/t/how-to-write-custom-crossentropyloss/58072> \n",
        "\n",
        "def log_softmax(x):\n",
        "  return x - torch.logsumexp(x,dim=1, keepdim=True)\n",
        "\n",
        "def cross_entropy(outputs, targets):\n",
        "  num_examples = targets.shape[0]\n",
        "  cross_entropies = targets*log_softmax(outputs)\n",
        "  return - torch.sum(cross_entropies) / num_examples"
      ],
      "execution_count": 2,
      "outputs": []
    },
    {
      "cell_type": "code",
      "metadata": {
        "id": "PUzkl5ldJ4zj"
      },
      "source": [
        "outputs = torch.tensor([[300.0, 100.0, 400.0, 100.0, 100.0],\n",
        "                        [100.0, 200.0, 300.0, 200.0, 200.0],\n",
        "                        [300.0, 100.0, 400.0, 100.0, 100.0]], requires_grad=True)\n",
        "\n",
        "labels = torch.tensor([3, 2, 1])\n",
        "\n",
        "\n",
        "label_one_hot = torch.tensor([[0, 0, 0, 1, 0], \n",
        "                              [0, 0, 1, 0, 0], \n",
        "                              [0, 1, 0, 0, 0]])\n",
        "\n",
        "label_probs = torch.tensor([[0.1, 0.2, 0.1, 0.4, 0.2], \n",
        "                            [0.2, 0.2, 0.4, 0.1, 0.1], \n",
        "                            [0.1, 0.6, 0.1, 0.1, 0.1]])"
      ],
      "execution_count": 3,
      "outputs": []
    },
    {
      "cell_type": "code",
      "metadata": {
        "colab": {
          "base_uri": "https://localhost:8080/"
        },
        "id": "V2CVngmiMjfr",
        "outputId": "33f2f471-2689-4cab-dc7a-0bc330fe1572"
      },
      "source": [
        "# get labels from probs\n",
        "_, labels_from_label_probs = torch.max(label_probs, 1)\n",
        "labels_from_label_probs"
      ],
      "execution_count": 4,
      "outputs": [
        {
          "output_type": "execute_result",
          "data": {
            "text/plain": [
              "tensor([3, 2, 1])"
            ]
          },
          "metadata": {},
          "execution_count": 4
        }
      ]
    },
    {
      "cell_type": "code",
      "metadata": {
        "colab": {
          "base_uri": "https://localhost:8080/"
        },
        "id": "zYbXxDswLwg7",
        "outputId": "378ec7b3-d8bf-4b8d-81d4-e91cab5b410b"
      },
      "source": [
        "built_in_ce = nn.CrossEntropyLoss()\n",
        "built_in_ce(outputs, labels)"
      ],
      "execution_count": 5,
      "outputs": [
        {
          "output_type": "execute_result",
          "data": {
            "text/plain": [
              "tensor(200., grad_fn=<NllLossBackward>)"
            ]
          },
          "metadata": {},
          "execution_count": 5
        }
      ]
    },
    {
      "cell_type": "code",
      "metadata": {
        "colab": {
          "base_uri": "https://localhost:8080/"
        },
        "id": "eZI-4yerL5Ts",
        "outputId": "c914002a-08a0-4b18-e688-1d5bda28185a"
      },
      "source": [
        "cross_entropy(outputs, label_one_hot)"
      ],
      "execution_count": 6,
      "outputs": [
        {
          "output_type": "execute_result",
          "data": {
            "text/plain": [
              "tensor(200., grad_fn=<DivBackward0>)"
            ]
          },
          "metadata": {},
          "execution_count": 6
        }
      ]
    },
    {
      "cell_type": "code",
      "metadata": {
        "colab": {
          "base_uri": "https://localhost:8080/"
        },
        "id": "Hda625kbKdBs",
        "outputId": "77f5b161-224b-49c0-c01e-7654b31eaa25"
      },
      "source": [
        "cross_entropy(outputs, label_probs)"
      ],
      "execution_count": 7,
      "outputs": [
        {
          "output_type": "execute_result",
          "data": {
            "text/plain": [
              "tensor(193.3333, grad_fn=<DivBackward0>)"
            ]
          },
          "metadata": {},
          "execution_count": 7
        }
      ]
    },
    {
      "cell_type": "markdown",
      "metadata": {
        "id": "mb2mJE0ARZkL"
      },
      "source": [
        "### Cross Entropy with class weights"
      ]
    },
    {
      "cell_type": "code",
      "metadata": {
        "id": "No1tSjERRbqD"
      },
      "source": [
        "def cross_entropy_with_class_weights(outputs, targets, class_weights = [1.0, 1.0, 1.0, 1.0, 1.0]):\n",
        "  _, labels = torch.max(targets, 1)\n",
        "  labels = labels.float()\n",
        "  print(labels.type())\n",
        "  weights_tensor = torch.ones_like(labels)\n",
        "  for curr_class in range(5):\n",
        "    curr_class_tensor = torch.full(labels.size(), curr_class)\n",
        "    curr_class_weight = class_weights[curr_class]\n",
        "    curr_class_weight_tensor = torch.full(labels.size(), curr_class_weight)\n",
        "    weights_tensor = torch.where(labels==curr_class_tensor, curr_class_weight_tensor, weights_tensor)\n",
        "\n",
        "  num_examples = targets.shape[0]\n",
        "  cross_entropies = targets*log_softmax(outputs)\n",
        "  # TODO: verify \n",
        "  # collapse cross_entropies of shape (batch_size, 5) to shape (batch_size, 1) by taking their sum\n",
        "  # then multiply with weights_tensor\n",
        "  cross_entropies = torch.sum(cross_entropies, dim=1) * weights_tensor\n",
        "\n",
        "  return - torch.sum(cross_entropies) / num_examples"
      ],
      "execution_count": 8,
      "outputs": []
    },
    {
      "cell_type": "code",
      "metadata": {
        "id": "1YbcbavgYgyI",
        "outputId": "85bd600e-1555-4896-db45-46fe793cc41e",
        "colab": {
          "base_uri": "https://localhost:8080/"
        }
      },
      "source": [
        "cross_entropy(outputs, label_one_hot)"
      ],
      "execution_count": 9,
      "outputs": [
        {
          "output_type": "execute_result",
          "data": {
            "text/plain": [
              "tensor(200., grad_fn=<DivBackward0>)"
            ]
          },
          "metadata": {},
          "execution_count": 9
        }
      ]
    },
    {
      "cell_type": "code",
      "metadata": {
        "id": "i5yensDKUSgk",
        "outputId": "f0acabc5-e5c7-4a9c-be38-dce54cc6f815",
        "colab": {
          "base_uri": "https://localhost:8080/"
        }
      },
      "source": [
        "cross_entropy_with_class_weights(outputs, label_probs)"
      ],
      "execution_count": 10,
      "outputs": [
        {
          "output_type": "stream",
          "name": "stdout",
          "text": [
            "torch.FloatTensor\n"
          ]
        },
        {
          "output_type": "execute_result",
          "data": {
            "text/plain": [
              "tensor(193.3333, grad_fn=<DivBackward0>)"
            ]
          },
          "metadata": {},
          "execution_count": 10
        }
      ]
    }
  ]
}
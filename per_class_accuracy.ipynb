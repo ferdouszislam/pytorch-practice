{
  "nbformat": 4,
  "nbformat_minor": 0,
  "metadata": {
    "colab": {
      "name": "per_class_accuracy.ipynb",
      "provenance": [],
      "authorship_tag": "ABX9TyMN03+lqEfy8jr0r1u2oAh/",
      "include_colab_link": true
    },
    "kernelspec": {
      "name": "python3",
      "display_name": "Python 3"
    },
    "language_info": {
      "name": "python"
    }
  },
  "cells": [
    {
      "cell_type": "markdown",
      "metadata": {
        "id": "view-in-github",
        "colab_type": "text"
      },
      "source": [
        "<a href=\"https://colab.research.google.com/github/ferdouszislam/pytorch-practice/blob/main/per_class_accuracy.ipynb\" target=\"_parent\"><img src=\"https://colab.research.google.com/assets/colab-badge.svg\" alt=\"Open In Colab\"/></a>"
      ]
    },
    {
      "cell_type": "code",
      "metadata": {
        "id": "2X7L3Tjqp7nn"
      },
      "source": [
        "import torch"
      ],
      "execution_count": 1,
      "outputs": []
    },
    {
      "cell_type": "code",
      "metadata": {
        "id": "cHTrcrwsqAAR"
      },
      "source": [
        "# dummy data with 2 batches of size 5 each\n",
        "\n",
        "labels = torch.tensor([[0, 1, 2, 3, 4], \n",
        "                       [0, 0, 2, 3, 4]])\n",
        "\n",
        "preds = torch.tensor([[1, 1, 2, 3, 4], \n",
        "                      [0, 2, 3, 2, 4]])"
      ],
      "execution_count": 44,
      "outputs": []
    },
    {
      "cell_type": "code",
      "metadata": {
        "id": "4dZnN6nxqKb6"
      },
      "source": [
        "class PerClassAccCalc():\n",
        "  def __init__(self, num_classes=5):\n",
        "    self.num_classes = num_classes\n",
        "    self.gt_label_freq = [0 for i in range(num_classes)]\n",
        "    self.correct_pred_freq = [0 for i in range(num_classes)]\n",
        "\n",
        "  def add_batch(self, pred_labels, gt_labels):\n",
        "    for curr_cls in range(self.num_classes):\n",
        "      self.gt_label_freq[curr_cls] += gt_labels.eq(curr_cls).sum().item()\n",
        "      self.correct_pred_freq[curr_cls] += torch.logical_and(pred_labels==gt_labels, pred_labels==curr_cls).sum().item()\n",
        "\n",
        "  def get_classwise_acc(self):\n",
        "    accs = []\n",
        "    for curr_cls in range(self.num_classes):\n",
        "      # print(curr_cls, self.correct_pred_freq[curr_cls], self.gt_label_freq[curr_cls])\n",
        "      acc = (self.correct_pred_freq[curr_cls] / self.gt_label_freq[curr_cls]) * 100.00\n",
        "      accs.append(round(acc, 3))\n",
        "    return accs"
      ],
      "execution_count": 49,
      "outputs": []
    },
    {
      "cell_type": "code",
      "metadata": {
        "colab": {
          "base_uri": "https://localhost:8080/"
        },
        "id": "8hfxthuFqsH6",
        "outputId": "43e8fad9-71fe-4a5b-f430-5dd0f9dc522d"
      },
      "source": [
        "per_class_acc = PerClassAccCalc(num_classes=5)\n",
        "per_class_acc.add_batch(preds, labels)\n",
        "per_class_acc.get_classwise_acc()"
      ],
      "execution_count": 50,
      "outputs": [
        {
          "output_type": "execute_result",
          "data": {
            "text/plain": [
              "[33.333, 100.0, 50.0, 50.0, 100.0]"
            ]
          },
          "metadata": {},
          "execution_count": 50
        }
      ]
    }
  ]
}
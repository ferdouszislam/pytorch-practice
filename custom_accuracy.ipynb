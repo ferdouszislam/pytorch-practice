{
  "nbformat": 4,
  "nbformat_minor": 0,
  "metadata": {
    "colab": {
      "name": "custom_accuracy.ipynb",
      "provenance": [],
      "authorship_tag": "ABX9TyO7SUHsc0mIBcZ1458NoYLB",
      "include_colab_link": true
    },
    "kernelspec": {
      "name": "python3",
      "display_name": "Python 3"
    },
    "language_info": {
      "name": "python"
    }
  },
  "cells": [
    {
      "cell_type": "markdown",
      "metadata": {
        "id": "view-in-github",
        "colab_type": "text"
      },
      "source": [
        "<a href=\"https://colab.research.google.com/github/ferdouszislam/pytorch-practice/blob/main/custom_accuracy.ipynb\" target=\"_parent\"><img src=\"https://colab.research.google.com/assets/colab-badge.svg\" alt=\"Open In Colab\"/></a>"
      ]
    },
    {
      "cell_type": "code",
      "metadata": {
        "id": "zCMwwJoiBf2H"
      },
      "source": [
        "import torch"
      ],
      "execution_count": 1,
      "outputs": []
    },
    {
      "cell_type": "code",
      "metadata": {
        "id": "B-Kd4jWMBitK"
      },
      "source": [
        "# dummy data with 2 batches of size 5 each\n",
        "\n",
        "labels = torch.tensor([[0, 1, 2, 3, 4], \n",
        "                       [0, 0, 2, 3, 4]])\n",
        "\n",
        "preds = torch.tensor([[1, 1, 2, 3, 4], \n",
        "                      [0, 2, 3, 2, 4]])"
      ],
      "execution_count": 2,
      "outputs": []
    },
    {
      "cell_type": "code",
      "metadata": {
        "id": "OzHv1iBvBmGi"
      },
      "source": [
        "class AccuracyWithDiff():\n",
        "  def __init__(self, diff=1):\n",
        "    self.diff = diff\n",
        "    self.num_correct = 0\n",
        "    self.num_total = 0\n",
        "\n",
        "  def add_batch(self, pred_labels, gt_labels):\n",
        "    self.num_total += pred_labels.size(0) * pred_labels.size(1)\n",
        "    self.num_correct += (torch.abs(pred_labels - gt_labels) <= self.diff).sum().item()\n",
        "\n",
        "  def get_acc(self):\n",
        "    return (self.num_correct * 100.0) / self.num_total"
      ],
      "execution_count": 21,
      "outputs": []
    },
    {
      "cell_type": "code",
      "metadata": {
        "colab": {
          "base_uri": "https://localhost:8080/"
        },
        "id": "kv3s7-tPCUu2",
        "outputId": "e6611bec-f064-4b35-fc72-670b9e49a19a"
      },
      "source": [
        "acc_with_diff = AccuracyWithDiff()\n",
        "acc_with_diff.add_batch(preds, labels)\n",
        "acc_with_diff.get_acc()"
      ],
      "execution_count": 22,
      "outputs": [
        {
          "output_type": "execute_result",
          "data": {
            "text/plain": [
              "90.0"
            ]
          },
          "metadata": {},
          "execution_count": 22
        }
      ]
    }
  ]
}